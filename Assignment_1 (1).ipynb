{
  "nbformat": 4,
  "nbformat_minor": 0,
  "metadata": {
    "colab": {
      "provenance": []
    },
    "kernelspec": {
      "name": "python3",
      "display_name": "Python 3"
    },
    "language_info": {
      "name": "python"
    }
  },
  "cells": [
    {
      "cell_type": "markdown",
      "source": [
        "1. In the below elements which of them are values or an expression? eg:- values can be integer or string and expressions will be mathematical operators.\n",
        "\n",
        "*\n",
        "'hello'\n",
        "-87.8\n",
        "- \n",
        "/ \n",
        "+\t\n",
        "6 \n",
        "\n",
        "Ans:\n",
        "\n",
        "*   Values: \"hello\", -87.8, 6. \n",
        "*   Expression:  *, -, /,+\n",
        "\n",
        "\n",
        "      \n"
      ],
      "metadata": {
        "id": "tx3aa9GwcaxQ"
      }
    },
    {
      "cell_type": "markdown",
      "source": [
        "2.What is the difference between string and variable?"
      ],
      "metadata": {
        "id": "9oIxoe-fdVa0"
      }
    },
    {
      "cell_type": "markdown",
      "source": [
        "Ans: Variable is used to store data in program\n",
        "\n",
        "String is sequence of one or more character that can be either a constant or variable."
      ],
      "metadata": {
        "id": "npz11fwzdvKw"
      }
    },
    {
      "cell_type": "markdown",
      "source": [
        "3.Describe three different data types."
      ],
      "metadata": {
        "id": "LWkmDQOFeTa1"
      }
    },
    {
      "cell_type": "markdown",
      "source": [
        "Ans: Three different types of data types are: \n",
        "\n",
        "1. int: We can use to represent whole number or integers. ex: a=10\n",
        "2.  Float: We can use to represent the decimal/floating point numbers. ex b=10.5\n",
        "3. Bool: We can use to represnt logical values(Only allowed values are True or False). c=True\n",
        "\n",
        "\n",
        "\n",
        "\n",
        "\n",
        "\n",
        "\n",
        "\n",
        "\n",
        "\n"
      ],
      "metadata": {
        "id": "yKQxOo-wedfM"
      }
    },
    {
      "cell_type": "markdown",
      "source": [
        "4. What is an expression made up of? What do all expressions do?\n",
        "\n",
        "Ans: Expression is made of opearator and operand.Ex=x=x+10. The expression in Python produces some value or result after being interpreted by the Python interprete.\n",
        "\n",
        "\n",
        "\n",
        "\n"
      ],
      "metadata": {
        "id": "ukkReHnXgTDV"
      }
    },
    {
      "cell_type": "markdown",
      "source": [],
      "metadata": {
        "id": "_f73RwQsl0uS"
      }
    },
    {
      "cell_type": "markdown",
      "source": [
        "5.This assignment statements, like spam = 10. What is the difference between an expression and a statement?\n",
        "\n",
        "Ans: An expression is sequence of values, variables, operator and function calls that produces or return a result values.\n",
        "ex: x=5\n",
        "\n",
        "A Statement is the smallest executable unit of code that has an effect, like creating a variable or displaying a value.\n"
      ],
      "metadata": {
        "id": "dnkMx7Fcl8Ky"
      }
    },
    {
      "cell_type": "markdown",
      "source": [
        "6. After running the following code, what does the variable bacon contain?\n",
        "bacon = 22\n",
        "bacon + 1\n",
        "\n",
        "Ans: bacon contain 23, after running both the statement."
      ],
      "metadata": {
        "id": "PZdY_OKknoV1"
      }
    },
    {
      "cell_type": "code",
      "source": [
        "bacon = 22\n",
        "print(bacon)"
      ],
      "metadata": {
        "colab": {
          "base_uri": "https://localhost:8080/"
        },
        "id": "zUNbzR3dnvHf",
        "outputId": "be13ead8-c556-4f6e-b219-835a55018a9f"
      },
      "execution_count": 2,
      "outputs": [
        {
          "output_type": "stream",
          "name": "stdout",
          "text": [
            "22\n"
          ]
        }
      ]
    },
    {
      "cell_type": "code",
      "source": [
        "bacon + 1"
      ],
      "metadata": {
        "colab": {
          "base_uri": "https://localhost:8080/"
        },
        "id": "HFFBmN8sn67D",
        "outputId": "a27362ef-f9aa-4703-9c45-6b3ba9b08961"
      },
      "execution_count": 3,
      "outputs": [
        {
          "output_type": "execute_result",
          "data": {
            "text/plain": [
              "23"
            ]
          },
          "metadata": {},
          "execution_count": 3
        }
      ]
    },
    {
      "cell_type": "markdown",
      "source": [
        "7. What should the values of the following two terms be?\n",
        "'spam'+'spamspam'\n",
        "'spam'*3\n",
        "\n",
        "    1.   'spam'+'spamspam'\n",
        "    2.  'spam'*3\n",
        "\n",
        "Ans: Output of both the statement are same i.e 'spamspamspam'"
      ],
      "metadata": {
        "id": "0lwSfHNWoQ75"
      }
    },
    {
      "cell_type": "code",
      "source": [
        "'spam'+'spamspam'"
      ],
      "metadata": {
        "colab": {
          "base_uri": "https://localhost:8080/",
          "height": 35
        },
        "id": "pB95eUnKorgn",
        "outputId": "82761cc1-fed7-4635-d0fe-4214eb1a72b9"
      },
      "execution_count": 4,
      "outputs": [
        {
          "output_type": "execute_result",
          "data": {
            "text/plain": [
              "'spamspamspam'"
            ],
            "application/vnd.google.colaboratory.intrinsic+json": {
              "type": "string"
            }
          },
          "metadata": {},
          "execution_count": 4
        }
      ]
    },
    {
      "cell_type": "code",
      "source": [
        "'spam'*3"
      ],
      "metadata": {
        "colab": {
          "base_uri": "https://localhost:8080/",
          "height": 35
        },
        "id": "Y5FPO2sMpA3a",
        "outputId": "ca72905f-14a8-482d-c259-83d8d8de7dbc"
      },
      "execution_count": 5,
      "outputs": [
        {
          "output_type": "execute_result",
          "data": {
            "text/plain": [
              "'spamspamspam'"
            ],
            "application/vnd.google.colaboratory.intrinsic+json": {
              "type": "string"
            }
          },
          "metadata": {},
          "execution_count": 5
        }
      ]
    },
    {
      "cell_type": "markdown",
      "source": [],
      "metadata": {
        "id": "yXBrGMTfgBvC"
      }
    },
    {
      "cell_type": "markdown",
      "source": [
        "8. Why is eggs a valid variable name while 100 is invalid?\n",
        "\n",
        "  Ans: variable should start with letter or word, but it cannot start with integer. That's why 100 cannot be used as variable"
      ],
      "metadata": {
        "id": "WXF-Y9HDqSwz"
      }
    },
    {
      "cell_type": "markdown",
      "source": [],
      "metadata": {
        "id": "CmcCXYWjrW8P"
      }
    },
    {
      "cell_type": "markdown",
      "source": [
        "9.What three functions can be used to get the integer, floating-point number, or string version of a value?\n",
        "Ans:\n",
        "\n",
        "*   int() can be used to get integer value\n",
        "*   float() can be used to get floating-point number\n",
        "*   str() can be used to get string value\n",
        "\n",
        "\n",
        "\n",
        "\n",
        "\n",
        "\n"
      ],
      "metadata": {
        "id": "q3xze1igflFm"
      }
    },
    {
      "cell_type": "markdown",
      "source": [
        "10. Why does this expression cause an error? How can you fix it?\n",
        "'I have eaten'+99+'burritos'\n",
        "\n",
        "Ans: cannot concatenate int and str, by converting int to string we can fix it. only string be be concatenated\n",
        "Correct expression: 'I have eaten'+'99'+'burritos'"
      ],
      "metadata": {
        "id": "37Qoze3QrtCI"
      }
    }
  ]
}